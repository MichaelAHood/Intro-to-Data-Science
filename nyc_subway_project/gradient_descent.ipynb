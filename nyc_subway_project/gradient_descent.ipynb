{
 "metadata": {
  "name": "",
  "signature": "sha256:6e966d46a8125616ec780e6d6c065f50fa8e6795917135e2fdda05d3be1a72fc"
 },
 "nbformat": 3,
 "nbformat_minor": 0,
 "worksheets": [
  {
   "cells": [
    {
     "cell_type": "code",
     "collapsed": false,
     "input": [
      "import pandas as pd\n",
      "import numpy as np"
     ],
     "language": "python",
     "metadata": {},
     "outputs": [],
     "prompt_number": 4
    },
    {
     "cell_type": "code",
     "collapsed": false,
     "input": [
      "def normalize_features(df):\n",
      "    \n",
      "    #Normalize the features in the data set\n",
      "    \n",
      "    mu = df.mean()\n",
      "    sigma = df.std()\n",
      "    \n",
      "    if (sigma == 0).any():\n",
      "        raise Exception(\"\"\"Do not include features w/ only\n",
      "                        a single value in the model.\"\"\")\n",
      "    df_normalized = (df - df.mean()) / df.std()\n",
      "        \n",
      "    return df_normalized, mu, sigma\n",
      "    #return mu, sigma"
     ],
     "language": "python",
     "metadata": {},
     "outputs": [],
     "prompt_number": 48
    },
    {
     "cell_type": "code",
     "collapsed": false,
     "input": [
      "subway_df = pd.read_csv('turnstile_weather_v2.csv')"
     ],
     "language": "python",
     "metadata": {},
     "outputs": [],
     "prompt_number": 49
    },
    {
     "cell_type": "code",
     "collapsed": false,
     "input": [
      "def compute_cost(features, values, theta):\n",
      "    \n",
      "    #Define the cost function\n",
      "    \n",
      "    m = len(values)\n",
      "    sum_of_square_errors = np.square(np.dot(features, theta) - values).sum()\n",
      "    cost = sum_of_square_errors / (2*m)\n",
      "    \n",
      "    return cost"
     ],
     "language": "python",
     "metadata": {},
     "outputs": [],
     "prompt_number": 74
    },
    {
     "cell_type": "code",
     "collapsed": false,
     "input": [
      "def gradient_descent(features, values, theta, alpha, num_iterations):\n",
      "    \n",
      "    m = len(values)\n",
      "    cost_history = []\n",
      "    \n",
      "    for i in range(num_iterations):\n",
      "        predicted_values = np.dot(features, theta)\n",
      "        theta = theta + alpha/(2*m) * np.dot((values - predicted_values), features)\n",
      "        cost = compute_cost(features, values, theta)\n",
      "        cost_history.append(cost)\n",
      "        \n",
      "        #insert a check to make sure that we don't miss the min cost function\n",
      "        \n",
      "        if cost_history[i] > cost_history[i-1]:\n",
      "            raise Exception(\"\"\"Your cost function is getting bigger.\n",
      "                    Try using a smaller step size.\"\"\")\n",
      "                \n",
      "            print cost_history[i], cost_history[i-1]\n",
      "        \n",
      "    return theta, pd.Series(cost_history)"
     ],
     "language": "python",
     "metadata": {},
     "outputs": [],
     "prompt_number": 187
    },
    {
     "cell_type": "code",
     "collapsed": false,
     "input": [
      "def predictions(subway_df):\n",
      "    \n",
      "    # pick the features for the model\n",
      "    features = subway_df[['precipi', 'hour']]\n",
      "    \n",
      "    # apply the normalize_features function to our feature set\n",
      "    #normalized_features, mu, sigma = normalize_features(features)\n",
      "    \n",
      "    # include the categoriacal variable 'UNIT' in the feature set by using dummy variables\n",
      "    dummy_units = pd.get_dummies(subway_df['UNIT'], prefix='unit')\n",
      "    # join dummy variables to features\n",
      "    #features = normalized_features.join(dummy_units)\n",
      "    features = features.join(dummy_units)\n",
      "    \n",
      "    # now do the same with dummy variable for weekend\n",
      "    dummy_days = pd.get_dummies(subway_df['weekday'], prefix='weekday')\n",
      "    features = features.join(dummy_days)\n",
      "    \n",
      "    # define the values for the model\n",
      "    values = subway_df['ENTRIESn_hourly']\n",
      "    m = len(values)\n",
      "    \n",
      "    \n",
      "    \n",
      "    # add a column of ones len(m) units long (sets the y-intercept)\n",
      "    features['ones'] = np.ones(m)\n",
      "    \n",
      "    # convert the features and values to numpy arrays\n",
      "    features_array = np.array(features)\n",
      "    values_array = np.array(values) \n",
      "    \n",
      "    # set alpha and num_iterations\n",
      "    alpha = 0.5\n",
      "    num_iterations = 500\n",
      "    \n",
      "    # initialize theta\n",
      "    theta_gradient_descent = np.zeros(len(features.columns))\n",
      "    theta_gradient_descent, cost_history = gradient_descent(features_array,\n",
      "                                                            values_array,\n",
      "                                                            theta_gradient_descent,\n",
      "                                                            alpha,\n",
      "                                                            num_iterations)\n",
      "    \n",
      "    predictions = np.dot(features_array, theta_gradient_descent)\n",
      "    #test_features, test_values = features_array, values_array\n",
      "    print \"Here are the last 20 values of the cost_function\"\n",
      "    print cost_history.tail(20) \n",
      "    return predictions\n",
      "    \n"
     ],
     "language": "python",
     "metadata": {},
     "outputs": [],
     "prompt_number": 190
    },
    {
     "cell_type": "code",
     "collapsed": false,
     "input": [
      "#  define a procedure to compute r^2, to determine how good our model is\n",
      "\n",
      "def compute_r_squared(data, predictions):\n",
      "    \n",
      "    SSR = ((data - predictions)**2).sum()\n",
      "    SST = ((data - np.mean(data))**2).sum()\n",
      "    r_squared = 1 - SSR / SST\n",
      "    \n",
      "    return r_squared"
     ],
     "language": "python",
     "metadata": {},
     "outputs": [],
     "prompt_number": 180
    },
    {
     "cell_type": "code",
     "collapsed": false,
     "input": [
      "import time"
     ],
     "language": "python",
     "metadata": {},
     "outputs": [],
     "prompt_number": 162
    },
    {
     "cell_type": "code",
     "collapsed": false,
     "input": [
      "# implement a timing method to determine runtime of our algorithm\n",
      "\n",
      "start_time = time.time()\n",
      "predictions = predictions(subway_df)\n",
      "\n",
      "print(\"--- %s seconds ---\" % (time.time() - start_time))\n",
      "\n",
      "r_squared = compute_r_squared(subway_df.ENTRIESn_hourly, predictions)\n",
      "\n",
      "print(\"This model has an r-squared of %f\") % r_squared"
     ],
     "language": "python",
     "metadata": {},
     "outputs": [
      {
       "output_type": "stream",
       "stream": "stderr",
       "text": [
        "ERROR: An unexpected error occurred while tokenizing input\n",
        "The following traceback may be corrupted or invalid\n",
        "The error message is: ('EOF in multi-line string', (1, 50))\n",
        "\n"
       ]
      },
      {
       "ename": "Exception",
       "evalue": "Your cost function is getting bigger.\n                    Try using a smaller step size.",
       "output_type": "pyerr",
       "traceback": [
        "\u001b[1;31m---------------------------------------------------------------------------\u001b[0m\n\u001b[1;31mException\u001b[0m                                 Traceback (most recent call last)",
        "\u001b[1;32m<ipython-input-189-6b2657c8600d>\u001b[0m in \u001b[0;36m<module>\u001b[1;34m()\u001b[0m\n\u001b[0;32m      2\u001b[0m \u001b[1;33m\u001b[0m\u001b[0m\n\u001b[0;32m      3\u001b[0m \u001b[0mstart_time\u001b[0m \u001b[1;33m=\u001b[0m \u001b[0mtime\u001b[0m\u001b[1;33m.\u001b[0m\u001b[0mtime\u001b[0m\u001b[1;33m(\u001b[0m\u001b[1;33m)\u001b[0m\u001b[1;33m\u001b[0m\u001b[0m\n\u001b[1;32m----> 4\u001b[1;33m \u001b[0mpredictions\u001b[0m \u001b[1;33m=\u001b[0m \u001b[0mpredictions\u001b[0m\u001b[1;33m(\u001b[0m\u001b[0msubway_df\u001b[0m\u001b[1;33m)\u001b[0m\u001b[1;33m\u001b[0m\u001b[0m\n\u001b[0m\u001b[0;32m      5\u001b[0m \u001b[1;33m\u001b[0m\u001b[0m\n\u001b[0;32m      6\u001b[0m \u001b[1;32mprint\u001b[0m\u001b[1;33m(\u001b[0m\u001b[1;34m\"--- %s seconds ---\"\u001b[0m \u001b[1;33m%\u001b[0m \u001b[1;33m(\u001b[0m\u001b[0mtime\u001b[0m\u001b[1;33m.\u001b[0m\u001b[0mtime\u001b[0m\u001b[1;33m(\u001b[0m\u001b[1;33m)\u001b[0m \u001b[1;33m-\u001b[0m \u001b[0mstart_time\u001b[0m\u001b[1;33m)\u001b[0m\u001b[1;33m)\u001b[0m\u001b[1;33m\u001b[0m\u001b[0m\n",
        "\u001b[1;32m<ipython-input-188-2013a0820649>\u001b[0m in \u001b[0;36mpredictions\u001b[1;34m(subway_df)\u001b[0m\n\u001b[0;32m     40\u001b[0m                                                             \u001b[0mtheta_gradient_descent\u001b[0m\u001b[1;33m,\u001b[0m\u001b[1;33m\u001b[0m\u001b[0m\n\u001b[0;32m     41\u001b[0m                                                             \u001b[0malpha\u001b[0m\u001b[1;33m,\u001b[0m\u001b[1;33m\u001b[0m\u001b[0m\n\u001b[1;32m---> 42\u001b[1;33m                                                             num_iterations)\n\u001b[0m\u001b[0;32m     43\u001b[0m \u001b[1;33m\u001b[0m\u001b[0m\n\u001b[0;32m     44\u001b[0m     \u001b[0mpredictions\u001b[0m \u001b[1;33m=\u001b[0m \u001b[0mnp\u001b[0m\u001b[1;33m.\u001b[0m\u001b[0mdot\u001b[0m\u001b[1;33m(\u001b[0m\u001b[0mfeatures_array\u001b[0m\u001b[1;33m,\u001b[0m \u001b[0mtheta_gradient_descent\u001b[0m\u001b[1;33m)\u001b[0m\u001b[1;33m\u001b[0m\u001b[0m\n",
        "\u001b[1;32m<ipython-input-187-e382aa077976>\u001b[0m in \u001b[0;36mgradient_descent\u001b[1;34m(features, values, theta, alpha, num_iterations)\u001b[0m\n\u001b[0;32m     14\u001b[0m         \u001b[1;32mif\u001b[0m \u001b[0mcost_history\u001b[0m\u001b[1;33m[\u001b[0m\u001b[0mi\u001b[0m\u001b[1;33m]\u001b[0m \u001b[1;33m>\u001b[0m \u001b[0mcost_history\u001b[0m\u001b[1;33m[\u001b[0m\u001b[0mi\u001b[0m\u001b[1;33m-\u001b[0m\u001b[1;36m1\u001b[0m\u001b[1;33m]\u001b[0m\u001b[1;33m:\u001b[0m\u001b[1;33m\u001b[0m\u001b[0m\n\u001b[0;32m     15\u001b[0m             raise Exception(\"\"\"Your cost function is getting bigger.\n\u001b[1;32m---> 16\u001b[1;33m                     Try using a smaller step size.\"\"\")\n\u001b[0m\u001b[0;32m     17\u001b[0m \u001b[1;33m\u001b[0m\u001b[0m\n\u001b[0;32m     18\u001b[0m             \u001b[1;32mprint\u001b[0m \u001b[0mcost_history\u001b[0m\u001b[1;33m[\u001b[0m\u001b[0mi\u001b[0m\u001b[1;33m]\u001b[0m\u001b[1;33m,\u001b[0m \u001b[0mcost_history\u001b[0m\u001b[1;33m[\u001b[0m\u001b[0mi\u001b[0m\u001b[1;33m-\u001b[0m\u001b[1;36m1\u001b[0m\u001b[1;33m]\u001b[0m\u001b[1;33m\u001b[0m\u001b[0m\n",
        "\u001b[1;31mException\u001b[0m: Your cost function is getting bigger.\n                    Try using a smaller step size."
       ]
      }
     ],
     "prompt_number": 189
    },
    {
     "cell_type": "code",
     "collapsed": false,
     "input": [],
     "language": "python",
     "metadata": {},
     "outputs": []
    }
   ],
   "metadata": {}
  }
 ]
}