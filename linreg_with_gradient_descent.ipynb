{
 "metadata": {
  "name": "",
  "signature": "sha256:d95ff4442e71940b4b294192e47d9170c7303e9134abdc098fa07debe7513285"
 },
 "nbformat": 3,
 "nbformat_minor": 0,
 "worksheets": [
  {
   "cells": [
    {
     "cell_type": "code",
     "collapsed": false,
     "input": [
      "import pandas as pd\n",
      "import numpy as np"
     ],
     "language": "python",
     "metadata": {},
     "outputs": [],
     "prompt_number": 1
    },
    {
     "cell_type": "code",
     "collapsed": false,
     "input": [
      "def normalize_features(df):\n",
      "    \n",
      "    #Normalize the features in the data set\n",
      "    \n",
      "    mu = df.mean()\n",
      "    sigma = df.std()\n",
      "    \n",
      "    if (sigma == 0).any():\n",
      "        raise Exception(\"\"\"Do not include features w/ only\n",
      "                        a single value in the model.\"\"\")\n",
      "    df_normalized = (df - df.mean()) / df.std()\n",
      "        \n",
      "    return df_normalized, mu, sigma\n",
      "    #return mu, sigma"
     ],
     "language": "python",
     "metadata": {},
     "outputs": [],
     "prompt_number": 2
    },
    {
     "cell_type": "code",
     "collapsed": false,
     "input": [
      "subway_df = pd.read_csv('turnstile_weather_v2.csv')"
     ],
     "language": "python",
     "metadata": {},
     "outputs": [],
     "prompt_number": 3
    },
    {
     "cell_type": "code",
     "collapsed": false,
     "input": [
      "def compute_cost(features, values, theta):\n",
      "    \n",
      "    #Define the cost function\n",
      "    \n",
      "    m = len(values)\n",
      "    sum_of_square_errors = np.square(np.dot(features, theta) - values).sum()\n",
      "    cost = sum_of_square_errors / (2*m)\n",
      "    \n",
      "    return cost"
     ],
     "language": "python",
     "metadata": {},
     "outputs": [],
     "prompt_number": 4
    },
    {
     "cell_type": "code",
     "collapsed": false,
     "input": [
      "def gradient_descent(features, values, theta, alpha, num_iterations):\n",
      "    \n",
      "    m = len(values)\n",
      "    cost_history = []\n",
      "    \n",
      "    for i in range(num_iterations):\n",
      "        predicted_values = np.dot(features, theta)\n",
      "        theta = theta + alpha/(2*m) * np.dot((values - predicted_values), features)\n",
      "        cost = compute_cost(features, values, theta)\n",
      "        cost_history.append(cost)\n",
      "        \n",
      "        #insert a check to make sure that we don't miss the min cost function\n",
      "        \n",
      "        if cost_history[i] > cost_history[i-1]:\n",
      "            raise Exception(\"\"\"Your cost function is getting bigger.\n",
      "                    Try using a smaller step size.\"\"\")\n",
      "                \n",
      "            print cost_history[i], cost_history[i-1]\n",
      "        \n",
      "    return theta, pd.Series(cost_history)"
     ],
     "language": "python",
     "metadata": {},
     "outputs": [],
     "prompt_number": 5
    },
    {
     "cell_type": "code",
     "collapsed": false,
     "input": [
      "def predictions(subway_df):\n",
      "    \n",
      "    # pick the features for the model\n",
      "    features = subway_df[['precipi', 'hour']]\n",
      "    \n",
      "    # apply the normalize_features function to our feature set\n",
      "    normalized_features, mu, sigma = normalize_features(features)\n",
      "    \n",
      "    # include the categoriacal variable 'UNIT' in the feature set by using dummy variables\n",
      "    dummy_units = pd.get_dummies(subway_df['UNIT'], prefix='unit')\n",
      "    # join dummy variables to features\n",
      "    features = normalized_features.join(dummy_units)\n",
      "        \n",
      "    # now do the same with dummy variable for weekend\n",
      "    dummy_days = pd.get_dummies(subway_df['weekday'], prefix='weekday')\n",
      "    features = features.join(dummy_days)\n",
      "    \n",
      "    # define the values for the model\n",
      "    values = subway_df['ENTRIESn_hourly']\n",
      "    m = len(values)\n",
      "    \n",
      "    \n",
      "    \n",
      "    # add a column of ones len(m) units long (sets the y-intercept)\n",
      "    features['ones'] = np.ones(m)\n",
      "    \n",
      "    # convert the features and values to numpy arrays\n",
      "    features_array = np.array(features)\n",
      "    values_array = np.array(values) \n",
      "    \n",
      "    # set alpha and num_iterations\n",
      "    alpha = 0.95\n",
      "    num_iterations = 2500\n",
      "    \n",
      "    # initialize theta\n",
      "    theta_gradient_descent = np.zeros(len(features.columns))\n",
      "    theta_gradient_descent, cost_history = gradient_descent(features_array,\n",
      "                                                            values_array,\n",
      "                                                            theta_gradient_descent,\n",
      "                                                            alpha,\n",
      "                                                            num_iterations)\n",
      "    \n",
      "    predictions = np.dot(features_array, theta_gradient_descent)\n",
      "    #test_features, test_values = features_array, values_array\n",
      "    print \"Here are the last 10 values of the cost_function\"\n",
      "    print cost_history.tail(10)\n",
      "    print theta_gradient_descent[:10]\n",
      "    return predictions\n",
      "    \n"
     ],
     "language": "python",
     "metadata": {},
     "outputs": [],
     "prompt_number": 9
    },
    {
     "cell_type": "code",
     "collapsed": false,
     "input": [
      "#  define a procedure to compute r^2, to determine how good our model is\n",
      "\n",
      "def compute_r_squared(data, predictions):\n",
      "    \n",
      "    SSR = ((data - predictions)**2).sum()\n",
      "    SST = ((data - np.mean(data))**2).sum()\n",
      "    r_squared = 1 - SSR / SST\n",
      "    \n",
      "    return r_squared"
     ],
     "language": "python",
     "metadata": {},
     "outputs": [],
     "prompt_number": 10
    },
    {
     "cell_type": "code",
     "collapsed": false,
     "input": [
      "import time"
     ],
     "language": "python",
     "metadata": {},
     "outputs": [],
     "prompt_number": 11
    },
    {
     "cell_type": "code",
     "collapsed": false,
     "input": [
      "# implement a timing method to determine runtime of our algorithm for the given alpha and num_iter\n",
      "# courtesy of rogeriopvl on Stackoverflow\n",
      "\n",
      "start_time = time.time()\n",
      "predictions = predictions(subway_df)\n",
      "\n",
      "print(\"--- %s seconds ---\" % (time.time() - start_time))\n",
      "\n",
      "r_squared = compute_r_squared(subway_df.ENTRIESn_hourly, predictions)\n",
      "\n",
      "\n",
      "print(\"This model has an r-squared of %f\") % r_squared"
     ],
     "language": "python",
     "metadata": {},
     "outputs": [
      {
       "output_type": "stream",
       "stream": "stdout",
       "text": [
        "Here are the last 10 values of the cost_function\n",
        "2490    2257929.281185\n",
        "2491    2257928.964600\n",
        "2492    2257928.649193\n",
        "2493    2257928.334961\n",
        "2494    2257928.021897\n",
        "2495    2257927.709998\n",
        "2496    2257927.399259\n",
        "2497    2257927.089676\n",
        "2498    2257926.781244\n",
        "2499    2257926.473959\n",
        "dtype: float64\n",
        "[  -70.45500581   850.37168499 -1627.27185317 -1295.1324412  -1293.7937663\n",
        " -1179.31521135 -1461.42809905 -1451.82479192 -1505.9511864   5499.92595251]\n",
        "--- 89.2960438728 seconds ---"
       ]
      },
      {
       "output_type": "stream",
       "stream": "stdout",
       "text": [
        "\n",
        "This model has an r-squared of 0.481912\n"
       ]
      }
     ],
     "prompt_number": 12
    },
    {
     "cell_type": "code",
     "collapsed": false,
     "input": [
      "# let's plot the residuals\n",
      "\n",
      "pd.options.display.mpl_style = 'default'\n",
      "\n",
      "plt.figure()\n",
      "\n",
      "residuals_df = (subway_df['ENTRIESn_hourly'] - predictions)\n",
      "\n",
      "residuals_df.plot(kind='hist', alpha=0.5, bins=100, xlim=(-15000,15000), title=\"Distribution of the residuals\")\n"
     ],
     "language": "python",
     "metadata": {},
     "outputs": [
      {
       "metadata": {},
       "output_type": "pyout",
       "prompt_number": 14,
       "text": [
        "<matplotlib.axes._subplots.AxesSubplot at 0x7fe35c4f8510>"
       ]
      },
      {
       "metadata": {},
       "output_type": "display_data",
       "png": "[encoded data removed]",
       "text": [
        "<matplotlib.figure.Figure at 0x7fe35df83310>"
       ]
      }
     ],
     "prompt_number": 14
    },
    {
     "cell_type": "code",
     "collapsed": false,
     "input": [],
     "language": "python",
     "metadata": {},
     "outputs": []
    }
   ],
   "metadata": {}
  }
 ]
}